{
 "cells": [
  {
   "cell_type": "markdown",
   "metadata": {},
   "source": [
    "# Lab3 Assignment"
   ]
  },
  {
   "cell_type": "code",
   "execution_count": 54,
   "metadata": {
    "collapsed": true
   },
   "outputs": [],
   "source": [
    "#Import Libraies\n",
    "import pandas as pd\n",
    "import pandas_datareader as pdr\n",
    "import datetime as dt\n",
    "from fuzzywuzzy import fuzz\n",
    "from fuzzywuzzy import process"
   ]
  },
  {
   "cell_type": "code",
   "execution_count": 55,
   "metadata": {
    "collapsed": true
   },
   "outputs": [],
   "source": [
    "#Read file to Dataframe\n",
    "Data = pd.read_excel(\"Cleaned_Update_2017.xlsx\",sheetname=0)"
   ]
  },
  {
   "cell_type": "markdown",
   "metadata": {},
   "source": [
    "### To get yahoo finance data"
   ]
  },
  {
   "cell_type": "code",
   "execution_count": 56,
   "metadata": {},
   "outputs": [
    {
     "name": "stdout",
     "output_type": "stream",
     "text": [
      "['AOL-U.TI', 'ADP', None, 'CIT-U.TI', None, 'HPQ', None, 'KDDIY', None, 'AOL-U.TI', None, None, None, 'GPS', None, None, None, None, None, 'AMTD', 'FIS', 'DNPCF', None, None, None, None, None, 'AT', 'SBUX', None, None, None, '^UMIAMIFL', None, None, None, None, None, None, None, None, None, None, None, None, 'LYNS', None, None, 'IGRW', None, None, None, None, 'HTLD', None, 'AT', None, None, None, None, None, None, None, None, None, None, None, None, None, None, None, 'PPB.L', 'JPM-PB', None, None, None, None, None, None, None, None, None, None, None, None, None, None, 'CIT-U.TI', None, None, 'GB00B1Z54R10.L', None, None, None, 'MBSS.JK', None, None, None, None, None, None, None, 'NHS', None, None, None, None, 'SAND-P.V', None, None, None, None, None, None, None, None, None, 'GPN', None, None, None, None, None, 'KTC.DU', None, None, 'ATVI', None, None, None, None, 'KCT.V', 'K55306BA2822.KS', None, None, None, None, None, None, 'CIT-U.TI', None, None, '2GF.F', 'NTDOY', 'TWTR', 'AAPL', 'OVH.AX', None, None, 'NMBS.KL', None, None, None, 'VOD', None, None, None, 'FB', 'YAHOY', 'ADBE', None, None, 'UBI.PA', 'AABA', None, None, 'NDAQ', None, 'JAPSY', None, None, 'D', None, 'SPLS', None, 'UPS', 'CYH', None, None, None, None, 'AOL-U.TI', 'HD', 'TGT', 'JPM-PB', 'EBAY', 'AABA', None, None, 'IRS', 'TALK.L', 'MSPYX', None, None, None, None, None, 'CPWFF8.EX', 'SJ8.MU', None, None, '0303.HK', None, None, None, None, None, None, None, None, None, None, None, 'FLINGX', None, None, 'ANTM', 'VKTX', None, None, None, None, None, None, None, None, 'DGX', 'ATGYX', None, None, None, None, None, None, '1880.HK', None, None, None, None, '035080.KQ', None, 'AABA', None, None, None, None, None, None, '^CEX', None, None, 'EFX', None]\n"
     ]
    }
   ],
   "source": [
    "import requests\n",
    "import json\n",
    "import urllib\n",
    "\n",
    "def get_symbol(name):\n",
    "    url = \"http://d.yimg.com/autoc.finance.yahoo.com/autoc?query={}&region=1&lang=en\".format(name)\n",
    "\n",
    "    result = requests.get(url).json()\n",
    "    \n",
    "    for x in result['ResultSet']['Result']:\n",
    "        return x['symbol']\n",
    "        \n",
    "ticker=[]\n",
    "cmp_name = Data.Entity\n",
    "  \n",
    "for  xyz in cmp_name:\n",
    "    ticker.append(get_symbol(xyz))\n",
    "        \n",
    "print(ticker)"
   ]
  },
  {
   "cell_type": "markdown",
   "metadata": {},
   "source": [
    "### With the ticker symbol, getting the stock price for the specified time frame"
   ]
  },
  {
   "cell_type": "code",
   "execution_count": 58,
   "metadata": {},
   "outputs": [
    {
     "name": "stderr",
     "output_type": "stream",
     "text": [
      "/Users/nandinirajeswaran/Applications/anaconda/lib/python3.6/site-packages/pandas_datareader/yahoo/daily.py:136: SymbolWarning: Failed to read symbol: 'AOL-U.TI', replacing with NaN.\n",
      "  warnings.warn(msg.format(sym), SymbolWarning)\n",
      "/Users/nandinirajeswaran/Applications/anaconda/lib/python3.6/site-packages/pandas_datareader/yahoo/daily.py:136: SymbolWarning: Failed to read symbol: None, replacing with NaN.\n",
      "  warnings.warn(msg.format(sym), SymbolWarning)\n",
      "/Users/nandinirajeswaran/Applications/anaconda/lib/python3.6/site-packages/pandas_datareader/yahoo/daily.py:136: SymbolWarning: Failed to read symbol: 'CIT-U.TI', replacing with NaN.\n",
      "  warnings.warn(msg.format(sym), SymbolWarning)\n",
      "/Users/nandinirajeswaran/Applications/anaconda/lib/python3.6/site-packages/pandas_datareader/yahoo/daily.py:136: SymbolWarning: Failed to read symbol: '^UMIAMIFL', replacing with NaN.\n",
      "  warnings.warn(msg.format(sym), SymbolWarning)\n",
      "/Users/nandinirajeswaran/Applications/anaconda/lib/python3.6/site-packages/pandas_datareader/yahoo/daily.py:136: SymbolWarning: Failed to read symbol: 'JPM-PB', replacing with NaN.\n",
      "  warnings.warn(msg.format(sym), SymbolWarning)\n",
      "/Users/nandinirajeswaran/Applications/anaconda/lib/python3.6/site-packages/pandas_datareader/yahoo/daily.py:136: SymbolWarning: Failed to read symbol: 'SAND-P.V', replacing with NaN.\n",
      "  warnings.warn(msg.format(sym), SymbolWarning)\n",
      "/Users/nandinirajeswaran/Applications/anaconda/lib/python3.6/site-packages/pandas_datareader/yahoo/daily.py:136: SymbolWarning: Failed to read symbol: 'KCT.V', replacing with NaN.\n",
      "  warnings.warn(msg.format(sym), SymbolWarning)\n",
      "/Users/nandinirajeswaran/Applications/anaconda/lib/python3.6/site-packages/pandas_datareader/yahoo/daily.py:136: SymbolWarning: Failed to read symbol: 'NMBS.KL', replacing with NaN.\n",
      "  warnings.warn(msg.format(sym), SymbolWarning)\n",
      "/Users/nandinirajeswaran/Applications/anaconda/lib/python3.6/site-packages/pandas_datareader/yahoo/daily.py:136: SymbolWarning: Failed to read symbol: 'CPWFF8.EX', replacing with NaN.\n",
      "  warnings.warn(msg.format(sym), SymbolWarning)\n",
      "/Users/nandinirajeswaran/Applications/anaconda/lib/python3.6/site-packages/pandas_datareader/yahoo/daily.py:136: SymbolWarning: Failed to read symbol: 'FLINGX', replacing with NaN.\n",
      "  warnings.warn(msg.format(sym), SymbolWarning)\n",
      "/Users/nandinirajeswaran/Applications/anaconda/lib/python3.6/site-packages/pandas_datareader/yahoo/daily.py:136: SymbolWarning: Failed to read symbol: '1880.HK', replacing with NaN.\n",
      "  warnings.warn(msg.format(sym), SymbolWarning)\n"
     ]
    }
   ],
   "source": [
    "start = dt.datetime(2004,1,1)\n",
    "end = dt.datetime(2017,6,6)\n",
    "data_source = 'yahoo'\n",
    "finance_data = pdr.DataReader(ticker, data_source, start, end)"
   ]
  },
  {
   "cell_type": "code",
   "execution_count": 59,
   "metadata": {},
   "outputs": [
    {
     "data": {
      "text/plain": [
       "<class 'pandas.core.panel.Panel'>\n",
       "Dimensions: 6 (items) x 3567 (major_axis) x 63 (minor_axis)\n",
       "Items axis: Adj Close to Volume\n",
       "Major_axis axis: 2004-01-01 00:00:00 to 2017-06-07 00:00:00\n",
       "Minor_axis axis: ADP to 1880.HK"
      ]
     },
     "execution_count": 59,
     "metadata": {},
     "output_type": "execute_result"
    }
   ],
   "source": [
    "finance_data"
   ]
  },
  {
   "cell_type": "markdown",
   "metadata": {},
   "source": [
    "### To get the finance data into a dataframe"
   ]
  },
  {
   "cell_type": "code",
   "execution_count": 65,
   "metadata": {},
   "outputs": [],
   "source": [
    "# The index in this DataFrame is the major index of the finance_data.\n",
    "final_data = finance_data.ix['Close']\n",
    "\n",
    "# Getting all weekdays as no stocks on weekends\n",
    "all_weekdays = pd.date_range(start=start, end=end, freq='B')\n",
    "\n",
    "# To align the existing prices in adj_close with all_weekdays as the new index using reindex\n",
    "final_data = final_data.reindex(all_weekdays)\n"
   ]
  },
  {
   "cell_type": "code",
   "execution_count": 71,
   "metadata": {},
   "outputs": [
    {
     "data": {
      "text/html": [
       "<div>\n",
       "<style>\n",
       "    .dataframe thead tr:only-child th {\n",
       "        text-align: right;\n",
       "    }\n",
       "\n",
       "    .dataframe thead th {\n",
       "        text-align: left;\n",
       "    }\n",
       "\n",
       "    .dataframe tbody tr th {\n",
       "        vertical-align: top;\n",
       "    }\n",
       "</style>\n",
       "<table border=\"1\" class=\"dataframe\">\n",
       "  <thead>\n",
       "    <tr style=\"text-align: right;\">\n",
       "      <th></th>\n",
       "      <th>2004-01-31 00:00:00</th>\n",
       "      <th>2005-01-31 00:00:00</th>\n",
       "      <th>2006-01-31 00:00:00</th>\n",
       "      <th>2007-01-31 00:00:00</th>\n",
       "      <th>2008-01-31 00:00:00</th>\n",
       "      <th>2009-01-31 00:00:00</th>\n",
       "      <th>2010-01-31 00:00:00</th>\n",
       "      <th>2011-01-31 00:00:00</th>\n",
       "      <th>2012-01-31 00:00:00</th>\n",
       "      <th>2013-01-31 00:00:00</th>\n",
       "      <th>2014-01-31 00:00:00</th>\n",
       "      <th>2015-01-31 00:00:00</th>\n",
       "      <th>2016-01-31 00:00:00</th>\n",
       "      <th>2017-01-31 00:00:00</th>\n",
       "      <th>2018-01-31 00:00:00</th>\n",
       "    </tr>\n",
       "  </thead>\n",
       "  <tbody>\n",
       "    <tr>\n",
       "      <th>ADP</th>\n",
       "      <td>32.813820</td>\n",
       "      <td>34.064935</td>\n",
       "      <td>35.050695</td>\n",
       "      <td>36.863325</td>\n",
       "      <td>40.408635</td>\n",
       "      <td>35.680073</td>\n",
       "      <td>33.713959</td>\n",
       "      <td>37.884942</td>\n",
       "      <td>45.168799</td>\n",
       "      <td>49.372064</td>\n",
       "      <td>62.635004</td>\n",
       "      <td>73.676731</td>\n",
       "      <td>84.028088</td>\n",
       "      <td>90.823439</td>\n",
       "      <td>101.266322</td>\n",
       "    </tr>\n",
       "    <tr>\n",
       "      <th>HPQ</th>\n",
       "      <td>11.182107</td>\n",
       "      <td>9.282525</td>\n",
       "      <td>11.431419</td>\n",
       "      <td>16.083477</td>\n",
       "      <td>21.027115</td>\n",
       "      <td>19.370576</td>\n",
       "      <td>18.872159</td>\n",
       "      <td>20.788701</td>\n",
       "      <td>15.047071</td>\n",
       "      <td>8.861357</td>\n",
       "      <td>10.792335</td>\n",
       "      <td>15.770325</td>\n",
       "      <td>13.679339</td>\n",
       "      <td>13.505929</td>\n",
       "      <td>17.734483</td>\n",
       "    </tr>\n",
       "    <tr>\n",
       "      <th>KDDIY</th>\n",
       "      <td>NaN</td>\n",
       "      <td>NaN</td>\n",
       "      <td>NaN</td>\n",
       "      <td>NaN</td>\n",
       "      <td>NaN</td>\n",
       "      <td>5.760977</td>\n",
       "      <td>4.477570</td>\n",
       "      <td>4.312767</td>\n",
       "      <td>5.716693</td>\n",
       "      <td>5.705365</td>\n",
       "      <td>8.373545</td>\n",
       "      <td>9.948712</td>\n",
       "      <td>11.916003</td>\n",
       "      <td>14.199206</td>\n",
       "      <td>13.273333</td>\n",
       "    </tr>\n",
       "    <tr>\n",
       "      <th>GPS</th>\n",
       "      <td>20.274500</td>\n",
       "      <td>21.430397</td>\n",
       "      <td>19.620000</td>\n",
       "      <td>18.361594</td>\n",
       "      <td>18.685913</td>\n",
       "      <td>16.659802</td>\n",
       "      <td>17.703267</td>\n",
       "      <td>20.624862</td>\n",
       "      <td>19.291825</td>\n",
       "      <td>30.194582</td>\n",
       "      <td>39.342302</td>\n",
       "      <td>40.946255</td>\n",
       "      <td>34.085259</td>\n",
       "      <td>24.304087</td>\n",
       "      <td>24.133908</td>\n",
       "    </tr>\n",
       "    <tr>\n",
       "      <th>AMTD</th>\n",
       "      <td>15.622000</td>\n",
       "      <td>12.953095</td>\n",
       "      <td>17.794405</td>\n",
       "      <td>17.797131</td>\n",
       "      <td>18.087817</td>\n",
       "      <td>16.548333</td>\n",
       "      <td>17.460120</td>\n",
       "      <td>17.583518</td>\n",
       "      <td>18.069206</td>\n",
       "      <td>17.205378</td>\n",
       "      <td>25.242143</td>\n",
       "      <td>32.671235</td>\n",
       "      <td>35.333307</td>\n",
       "      <td>33.768696</td>\n",
       "      <td>39.345977</td>\n",
       "    </tr>\n",
       "  </tbody>\n",
       "</table>\n",
       "</div>"
      ],
      "text/plain": [
       "       2004-01-31  2005-01-31  2006-01-31  2007-01-31  2008-01-31  2009-01-31  \\\n",
       "ADP     32.813820   34.064935   35.050695   36.863325   40.408635   35.680073   \n",
       "HPQ     11.182107    9.282525   11.431419   16.083477   21.027115   19.370576   \n",
       "KDDIY         NaN         NaN         NaN         NaN         NaN    5.760977   \n",
       "GPS     20.274500   21.430397   19.620000   18.361594   18.685913   16.659802   \n",
       "AMTD    15.622000   12.953095   17.794405   17.797131   18.087817   16.548333   \n",
       "\n",
       "       2010-01-31  2011-01-31  2012-01-31  2013-01-31  2014-01-31  2015-01-31  \\\n",
       "ADP     33.713959   37.884942   45.168799   49.372064   62.635004   73.676731   \n",
       "HPQ     18.872159   20.788701   15.047071    8.861357   10.792335   15.770325   \n",
       "KDDIY    4.477570    4.312767    5.716693    5.705365    8.373545    9.948712   \n",
       "GPS     17.703267   20.624862   19.291825   30.194582   39.342302   40.946255   \n",
       "AMTD    17.460120   17.583518   18.069206   17.205378   25.242143   32.671235   \n",
       "\n",
       "       2016-01-31  2017-01-31  2018-01-31  \n",
       "ADP     84.028088   90.823439  101.266322  \n",
       "HPQ     13.679339   13.505929   17.734483  \n",
       "KDDIY   11.916003   14.199206   13.273333  \n",
       "GPS     34.085259   24.304087   24.133908  \n",
       "AMTD    35.333307   33.768696   39.345977  "
      ]
     },
     "execution_count": 71,
     "metadata": {},
     "output_type": "execute_result"
    }
   ],
   "source": [
    "final_data.head()"
   ]
  },
  {
   "cell_type": "markdown",
   "metadata": {},
   "source": [
    "### To get the stock price(average) for the year"
   ]
  },
  {
   "cell_type": "code",
   "execution_count": 68,
   "metadata": {
    "collapsed": true
   },
   "outputs": [],
   "source": [
    "final_data = final_data.groupby(pd.TimeGrouper(freq='12M')).mean()"
   ]
  },
  {
   "cell_type": "code",
   "execution_count": 70,
   "metadata": {
    "collapsed": true
   },
   "outputs": [],
   "source": [
    "#Transpose of the dataframe\n",
    "final_data = final_data.T"
   ]
  },
  {
   "cell_type": "markdown",
   "metadata": {},
   "source": [
    "### To get the data into a dataframe with columns - Symbols, Price, Date"
   ]
  },
  {
   "cell_type": "code",
   "execution_count": 72,
   "metadata": {
    "collapsed": true
   },
   "outputs": [],
   "source": [
    "Data_Final = pd.DataFrame(columns=['Symbol','Date','Price'])\n",
    "d =0\n",
    "for i in range(len(close)) : \n",
    "    ts = close.index[i]\n",
    "    for j in range(len(close.iloc[i])): \n",
    "        time_frame = pd.to_datetime(str(close.columns.values[j]))\n",
    "        date = time_frame.strftime('%Y-%m-%d')\n",
    "        Data_Final.loc[d]=( ts,  date , close.iloc[i][j])\n",
    "        d=d+1"
   ]
  },
  {
   "cell_type": "code",
   "execution_count": 73,
   "metadata": {
    "collapsed": true
   },
   "outputs": [],
   "source": [
    "#Removing rows with null values\n",
    "Data_Final = Data_Final.dropna(axis=0,how='any')"
   ]
  },
  {
   "cell_type": "code",
   "execution_count": 74,
   "metadata": {},
   "outputs": [
    {
     "data": {
      "text/html": [
       "<div>\n",
       "<style>\n",
       "    .dataframe thead tr:only-child th {\n",
       "        text-align: right;\n",
       "    }\n",
       "\n",
       "    .dataframe thead th {\n",
       "        text-align: left;\n",
       "    }\n",
       "\n",
       "    .dataframe tbody tr th {\n",
       "        vertical-align: top;\n",
       "    }\n",
       "</style>\n",
       "<table border=\"1\" class=\"dataframe\">\n",
       "  <thead>\n",
       "    <tr style=\"text-align: right;\">\n",
       "      <th></th>\n",
       "      <th>Symbol</th>\n",
       "      <th>Date</th>\n",
       "      <th>Price</th>\n",
       "    </tr>\n",
       "  </thead>\n",
       "  <tbody>\n",
       "    <tr>\n",
       "      <th>0</th>\n",
       "      <td>ADP</td>\n",
       "      <td>2004-01-31</td>\n",
       "      <td>32.813820</td>\n",
       "    </tr>\n",
       "    <tr>\n",
       "      <th>1</th>\n",
       "      <td>ADP</td>\n",
       "      <td>2005-01-31</td>\n",
       "      <td>34.064935</td>\n",
       "    </tr>\n",
       "    <tr>\n",
       "      <th>2</th>\n",
       "      <td>ADP</td>\n",
       "      <td>2006-01-31</td>\n",
       "      <td>35.050695</td>\n",
       "    </tr>\n",
       "    <tr>\n",
       "      <th>3</th>\n",
       "      <td>ADP</td>\n",
       "      <td>2007-01-31</td>\n",
       "      <td>36.863325</td>\n",
       "    </tr>\n",
       "    <tr>\n",
       "      <th>4</th>\n",
       "      <td>ADP</td>\n",
       "      <td>2008-01-31</td>\n",
       "      <td>40.408635</td>\n",
       "    </tr>\n",
       "  </tbody>\n",
       "</table>\n",
       "</div>"
      ],
      "text/plain": [
       "  Symbol        Date      Price\n",
       "0    ADP  2004-01-31  32.813820\n",
       "1    ADP  2005-01-31  34.064935\n",
       "2    ADP  2006-01-31  35.050695\n",
       "3    ADP  2007-01-31  36.863325\n",
       "4    ADP  2008-01-31  40.408635"
      ]
     },
     "execution_count": 74,
     "metadata": {},
     "output_type": "execute_result"
    }
   ],
   "source": [
    "Data_Final.head()"
   ]
  },
  {
   "cell_type": "markdown",
   "metadata": {},
   "source": [
    "### Get ticker array to a dataframe and merge it with the existing dataframe"
   ]
  },
  {
   "cell_type": "code",
   "execution_count": 75,
   "metadata": {
    "collapsed": true
   },
   "outputs": [],
   "source": [
    "data_ticker = pd.DataFrame(ticker) \n",
    "data_ticker['Ticker_Symbol'] = pd.Series(ticker, index=data_ticker.index)"
   ]
  },
  {
   "cell_type": "code",
   "execution_count": 76,
   "metadata": {
    "collapsed": true
   },
   "outputs": [],
   "source": [
    "Data['Ticker_symbol']= data_ticker['Ticker_Symbol']"
   ]
  },
  {
   "cell_type": "code",
   "execution_count": 77,
   "metadata": {
    "collapsed": true
   },
   "outputs": [],
   "source": [
    "#Drop empty columns(axis=1 for columns and axis=0 for rows; \n",
    "#how='all' to drop if all values are nan and how='any' to drop if any value is nan)\n",
    "Data = Data.dropna(axis=0,how='any')"
   ]
  },
  {
   "cell_type": "code",
   "execution_count": 78,
   "metadata": {},
   "outputs": [
    {
     "data": {
      "text/html": [
       "<div>\n",
       "<style>\n",
       "    .dataframe thead tr:only-child th {\n",
       "        text-align: right;\n",
       "    }\n",
       "\n",
       "    .dataframe thead th {\n",
       "        text-align: left;\n",
       "    }\n",
       "\n",
       "    .dataframe tbody tr th {\n",
       "        vertical-align: top;\n",
       "    }\n",
       "</style>\n",
       "<table border=\"1\" class=\"dataframe\">\n",
       "  <thead>\n",
       "    <tr style=\"text-align: right;\">\n",
       "      <th></th>\n",
       "      <th>Entity</th>\n",
       "      <th>YEAR</th>\n",
       "      <th>records lost</th>\n",
       "      <th>ORGANISATION</th>\n",
       "      <th>METHOD OF LEAK</th>\n",
       "      <th>DATA SENSITIVITY</th>\n",
       "      <th>Ticker_symbol</th>\n",
       "    </tr>\n",
       "  </thead>\n",
       "  <tbody>\n",
       "    <tr>\n",
       "      <th>0</th>\n",
       "      <td>AOL</td>\n",
       "      <td>2004</td>\n",
       "      <td>92000000</td>\n",
       "      <td>web</td>\n",
       "      <td>inside job</td>\n",
       "      <td>Just email address/Online information</td>\n",
       "      <td>AOL-U.TI</td>\n",
       "    </tr>\n",
       "    <tr>\n",
       "      <th>1</th>\n",
       "      <td>Automatic Data Processing</td>\n",
       "      <td>2005</td>\n",
       "      <td>125000</td>\n",
       "      <td>financial</td>\n",
       "      <td>poor security</td>\n",
       "      <td>SSN/Personal details</td>\n",
       "      <td>ADP</td>\n",
       "    </tr>\n",
       "    <tr>\n",
       "      <th>3</th>\n",
       "      <td>Citigroup</td>\n",
       "      <td>2005</td>\n",
       "      <td>3900000</td>\n",
       "      <td>financial</td>\n",
       "      <td>lost / stolen device</td>\n",
       "      <td>Credit card information</td>\n",
       "      <td>CIT-U.TI</td>\n",
       "    </tr>\n",
       "    <tr>\n",
       "      <th>5</th>\n",
       "      <td>Hewlett Packard</td>\n",
       "      <td>2006</td>\n",
       "      <td>200000</td>\n",
       "      <td>tech, retail</td>\n",
       "      <td>lost / stolen device</td>\n",
       "      <td>SSN/Personal details</td>\n",
       "      <td>HPQ</td>\n",
       "    </tr>\n",
       "    <tr>\n",
       "      <th>7</th>\n",
       "      <td>KDDI</td>\n",
       "      <td>2006</td>\n",
       "      <td>4000000</td>\n",
       "      <td>telecoms</td>\n",
       "      <td>hacked</td>\n",
       "      <td>Just email address/Online information</td>\n",
       "      <td>KDDIY</td>\n",
       "    </tr>\n",
       "  </tbody>\n",
       "</table>\n",
       "</div>"
      ],
      "text/plain": [
       "                      Entity  YEAR  records lost  ORGANISATION  \\\n",
       "0                        AOL  2004      92000000           web   \n",
       "1  Automatic Data Processing  2005        125000     financial   \n",
       "3                  Citigroup  2005       3900000     financial   \n",
       "5            Hewlett Packard  2006        200000  tech, retail   \n",
       "7                       KDDI  2006       4000000      telecoms   \n",
       "\n",
       "         METHOD OF LEAK                       DATA SENSITIVITY Ticker_symbol  \n",
       "0            inside job  Just email address/Online information      AOL-U.TI  \n",
       "1         poor security                   SSN/Personal details           ADP  \n",
       "3  lost / stolen device                Credit card information      CIT-U.TI  \n",
       "5  lost / stolen device                   SSN/Personal details           HPQ  \n",
       "7                hacked  Just email address/Online information         KDDIY  "
      ]
     },
     "execution_count": 78,
     "metadata": {},
     "output_type": "execute_result"
    }
   ],
   "source": [
    "Data.head()"
   ]
  },
  {
   "cell_type": "code",
   "execution_count": 79,
   "metadata": {
    "collapsed": true
   },
   "outputs": [],
   "source": [
    "Data.to_csv('Lab3_Finance1.csv', index=False, encoding='utf-8')"
   ]
  },
  {
   "cell_type": "code",
   "execution_count": 81,
   "metadata": {
    "collapsed": true
   },
   "outputs": [],
   "source": [
    "Data_Final.to_csv('Lab_Finance_Data_Final.csv', index=False, encoding='utf-8')"
   ]
  },
  {
   "cell_type": "markdown",
   "metadata": {},
   "source": [
    "### Version1:\n",
    "https://public.tableau.com/profile/nandini6420#!/vizhome/Lab3_Financial_Impact_NR/Version1\n",
    "\n",
    "This version gives the information that the financial markets punish security breaches. The chart can have more clarity at the entity level.\n",
    "\n",
    "### Version2:\n",
    "https://public.tableau.com/profile/nandini6420#!/vizhome/Lab3_Financial_Impact_NR_V2_0/Version2\n",
    "\n",
    "This version speakes about the data breaches on the enity level across the records lost and close stock Price. It can have a better representation.\n",
    "\n",
    "### Version3:\n",
    "https://public.tableau.com/profile/nandini6420#!/vizhome/Lab3_Financial_Impact_NR_V3_0/Final_Version\n",
    "\n",
    "This version clearly depicts the scenario across the year and entity. Thus, financial markets punish security breaches"
   ]
  },
  {
   "cell_type": "code",
   "execution_count": null,
   "metadata": {
    "collapsed": true
   },
   "outputs": [],
   "source": []
  }
 ],
 "metadata": {
  "kernelspec": {
   "display_name": "Python 3",
   "language": "python",
   "name": "python3"
  },
  "language_info": {
   "codemirror_mode": {
    "name": "ipython",
    "version": 3
   },
   "file_extension": ".py",
   "mimetype": "text/x-python",
   "name": "python",
   "nbconvert_exporter": "python",
   "pygments_lexer": "ipython3",
   "version": "3.6.1"
  }
 },
 "nbformat": 4,
 "nbformat_minor": 2
}
