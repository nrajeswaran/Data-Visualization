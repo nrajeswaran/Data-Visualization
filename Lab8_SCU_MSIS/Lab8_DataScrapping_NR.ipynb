{
 "cells": [
  {
   "cell_type": "markdown",
   "metadata": {},
   "source": [
    "## MSIS program at Santa Clara University for prospective students"
   ]
  },
  {
   "cell_type": "markdown",
   "metadata": {},
   "source": [
    "### Dataset1 web scrapping using beautiful soup\n",
    "\n",
    "For webscraping with beautifulsoup, chose an archived data from 2013 Ranking of the universities in the Bay Area to show how SCU being the oldest university has evolved through the competition."
   ]
  },
  {
   "cell_type": "code",
   "execution_count": 136,
   "metadata": {
    "collapsed": true
   },
   "outputs": [],
   "source": [
    "from bs4 import BeautifulSoup\n",
    "import requests\n",
    "from IPython.display import Image"
   ]
  },
  {
   "cell_type": "code",
   "execution_count": 134,
   "metadata": {
    "collapsed": true
   },
   "outputs": [],
   "source": [
    "Data2 = requests.get('http://study.com/articles/Top_Ranked_School_for_Information_Technology_-_San_Jose_CA.html')\n",
    "Data2.content"
   ]
  },
  {
   "cell_type": "code",
   "execution_count": 10,
   "metadata": {
    "collapsed": true
   },
   "outputs": [],
   "source": [
    "html_data = BeautifulSoup(Data2.content, 'html.parser')"
   ]
  },
  {
   "cell_type": "code",
   "execution_count": 133,
   "metadata": {
    "collapsed": true
   },
   "outputs": [],
   "source": [
    "print(html_data.prettify())"
   ]
  },
  {
   "cell_type": "code",
   "execution_count": 135,
   "metadata": {
    "collapsed": true
   },
   "outputs": [],
   "source": [
    "html_data.title"
   ]
  },
  {
   "cell_type": "code",
   "execution_count": 130,
   "metadata": {
    "collapsed": true
   },
   "outputs": [],
   "source": [
    "table = html_data.find('table')\n",
    "print(table)"
   ]
  },
  {
   "cell_type": "code",
   "execution_count": 131,
   "metadata": {
    "collapsed": true
   },
   "outputs": [],
   "source": [
    "table_body = table.find('tbody')\n",
    "print(table_body)"
   ]
  },
  {
   "cell_type": "code",
   "execution_count": 132,
   "metadata": {
    "collapsed": true
   },
   "outputs": [],
   "source": [
    "for row in table_body.find_all('tr'):\n",
    "    for cell in row.find_all('td'):\n",
    "        print(cell)"
   ]
  },
  {
   "cell_type": "code",
   "execution_count": 83,
   "metadata": {
    "collapsed": true
   },
   "outputs": [],
   "source": [
    "data = {\n",
    "    'Category' : [],\n",
    "    'Santa Clara University' : [],\n",
    "    'San Jose State University' : [],\n",
    "    'University of San Francisco' : []\n",
    "}\n",
    "\n",
    "table_names = ['Category','Santa Clara University','San Jose State University','University of San Francisco']\n",
    "count = 0\n",
    "for row in table_body.find_all('tr'):\n",
    "    for cell in row.find_all('td'):\n",
    "        #print( table_names[count%4] +\":\"+ cell.get_text())\n",
    "        data[table_names[count%4]].append( cell.get_text() )\n",
    "        count= count+1\n",
    "    \n",
    "import pandas as pd\n",
    "Datascrap = pd.DataFrame(data)\n",
    "\n",
    "Datascrap.to_csv('Dataset1.csv', index=False, encoding='utf-8')"
   ]
  },
  {
   "cell_type": "markdown",
   "metadata": {},
   "source": [
    "### Dataset2 on the job positions for MSIS graduates\n",
    "\n",
    "This dataset is an inviting source for prospective students to know on the career opportunities for MSIS graduates. Only with this information they will be able to move on with their choices on universities.\n",
    "\n",
    "The data source is from https://www.payscale.com/research/US/Degree=Master_of_Information_Science_(MIS)/Salary. \n",
    "\n",
    "The website denied permissions from scrapping the data, hence got the HTML from the page source and used pandas datareader to convert it to csv."
   ]
  },
  {
   "cell_type": "code",
   "execution_count": 95,
   "metadata": {
    "collapsed": true
   },
   "outputs": [],
   "source": [
    "import pandas as pd\n",
    "Data3 = pd.read_html('Paysalary.html')\n",
    "\n",
    "Data3 = Data3[0]\n",
    "Data3.columns = ['MSIS Job positions', 'Average Salary', 'Min  Max']\n",
    "\n",
    "#Removing rows with null values\n",
    "Data3 = Data3.dropna(axis=0,how='any')\n",
    "\n",
    "Data3.drop(Data3.index[:1], inplace=True)\n",
    "\n",
    "Data3.to_csv('Dataset2.csv', index=False, encoding='utf-8')"
   ]
  },
  {
   "cell_type": "markdown",
   "metadata": {},
   "source": [
    "### Dataset3 on Student Teacher Ratio and Enrolled students\n",
    "\n",
    "With this data, the prospective students will get an information on where SCU MSIS course stands in terms of students enrolling and the ratio of student and teacher\n",
    "\n",
    "The information was obtained from https://www.universities.com/find/california/best/management-information-systems-degrees, web data scraping was denied by the website so copied the page source to find the table tag and made a html out of it and used panda reader to get the csv file from the dataframe."
   ]
  },
  {
   "cell_type": "code",
   "execution_count": 117,
   "metadata": {
    "collapsed": true
   },
   "outputs": [],
   "source": [
    "Data4 = pd.read_html('Lab4_Data3.html')\n",
    "Data4 = Data4[0]"
   ]
  },
  {
   "cell_type": "code",
   "execution_count": 119,
   "metadata": {
    "collapsed": true
   },
   "outputs": [],
   "source": [
    "#Drop 'School Logo' column\n",
    "del Data4['School Logo']"
   ]
  },
  {
   "cell_type": "code",
   "execution_count": 121,
   "metadata": {
    "collapsed": true
   },
   "outputs": [],
   "source": [
    "Data4.to_csv('Dataset4.csv', index=False, encoding='utf-8')"
   ]
  },
  {
   "cell_type": "markdown",
   "metadata": {},
   "source": [
    "### Data set4 on univeristy ranking\n",
    "\n",
    "The data set3 is on MS IS course ranking across universities. From this recruiters can get information on the SCU stands and accordingly recruit students"
   ]
  },
  {
   "cell_type": "code",
   "execution_count": 122,
   "metadata": {
    "collapsed": true
   },
   "outputs": [],
   "source": [
    "import pandas as pd\n",
    "url = 'http://higheredublog.com/top-universities-for-ms-in-mis-in-usa/'\n",
    "\n",
    "data = pd.read_html(url, header = 0)\n",
    "\n",
    "data1 = data[0]\n",
    "\n",
    "data1.columns = ['RANKING', 'UNIVERSITY', 'PROGRAM']\n",
    "\n",
    "df = pd.DataFrame(data1)\n",
    "df.to_csv('univ_ranking.csv', index=False, encoding='utf-8')"
   ]
  },
  {
   "cell_type": "code",
   "execution_count": null,
   "metadata": {
    "collapsed": true
   },
   "outputs": [],
   "source": []
  }
 ],
 "metadata": {
  "kernelspec": {
   "display_name": "Python 3",
   "language": "python",
   "name": "python3"
  },
  "language_info": {
   "codemirror_mode": {
    "name": "ipython",
    "version": 3
   },
   "file_extension": ".py",
   "mimetype": "text/x-python",
   "name": "python",
   "nbconvert_exporter": "python",
   "pygments_lexer": "ipython3",
   "version": "3.6.1"
  }
 },
 "nbformat": 4,
 "nbformat_minor": 2
}
