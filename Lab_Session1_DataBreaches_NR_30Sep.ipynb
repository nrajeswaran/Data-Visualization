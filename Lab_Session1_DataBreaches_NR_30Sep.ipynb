{
 "cells": [
  {
   "cell_type": "code",
   "execution_count": 12,
   "metadata": {
    "collapsed": true
   },
   "outputs": [],
   "source": [
    "# Data Wrangling for Lab Session1\n",
    "import pandas as pd\n",
    "\n",
    "#Read the sheet 2017 update from Lab1_Doc\n",
    "UpdatedData_2017 = pd.read_excel(\"Lab1_Doc.xlsx\",sheetname=0)"
   ]
  },
  {
   "cell_type": "code",
   "execution_count": 34,
   "metadata": {},
   "outputs": [
    {
     "data": {
      "text/html": [
       "<div>\n",
       "<style>\n",
       "    .dataframe thead tr:only-child th {\n",
       "        text-align: right;\n",
       "    }\n",
       "\n",
       "    .dataframe thead th {\n",
       "        text-align: left;\n",
       "    }\n",
       "\n",
       "    .dataframe tbody tr th {\n",
       "        vertical-align: top;\n",
       "    }\n",
       "</style>\n",
       "<table border=\"1\" class=\"dataframe\">\n",
       "  <thead>\n",
       "    <tr style=\"text-align: right;\">\n",
       "      <th></th>\n",
       "      <th>Entity</th>\n",
       "      <th>YEAR</th>\n",
       "      <th>records lost</th>\n",
       "      <th>ORGANISATION</th>\n",
       "      <th>METHOD OF LEAK</th>\n",
       "      <th>DATA SENSITIVITY</th>\n",
       "    </tr>\n",
       "  </thead>\n",
       "  <tbody>\n",
       "    <tr>\n",
       "      <th>1</th>\n",
       "      <td>AOL</td>\n",
       "      <td>2004</td>\n",
       "      <td>92000000</td>\n",
       "      <td>web</td>\n",
       "      <td>inside job</td>\n",
       "      <td>Just email address/Online information</td>\n",
       "    </tr>\n",
       "    <tr>\n",
       "      <th>2</th>\n",
       "      <td>Automatic Data Processing</td>\n",
       "      <td>2005</td>\n",
       "      <td>125000</td>\n",
       "      <td>financial</td>\n",
       "      <td>poor security</td>\n",
       "      <td>SSN/Personal details</td>\n",
       "    </tr>\n",
       "    <tr>\n",
       "      <th>3</th>\n",
       "      <td>Ameritrade Inc.</td>\n",
       "      <td>2005</td>\n",
       "      <td>200000</td>\n",
       "      <td>financial</td>\n",
       "      <td>lost / stolen device</td>\n",
       "      <td>SSN/Personal details</td>\n",
       "    </tr>\n",
       "    <tr>\n",
       "      <th>4</th>\n",
       "      <td>Citigroup</td>\n",
       "      <td>2005</td>\n",
       "      <td>3900000</td>\n",
       "      <td>financial</td>\n",
       "      <td>lost / stolen device</td>\n",
       "      <td>Credit card information</td>\n",
       "    </tr>\n",
       "    <tr>\n",
       "      <th>5</th>\n",
       "      <td>Cardsystems Solutions Inc.</td>\n",
       "      <td>2005</td>\n",
       "      <td>40000000</td>\n",
       "      <td>financial</td>\n",
       "      <td>hacked</td>\n",
       "      <td>Credit card information</td>\n",
       "    </tr>\n",
       "  </tbody>\n",
       "</table>\n",
       "</div>"
      ],
      "text/plain": [
       "                        Entity  YEAR records lost ORGANISATION  \\\n",
       "1                          AOL  2004     92000000          web   \n",
       "2    Automatic Data Processing  2005       125000    financial   \n",
       "3              Ameritrade Inc.  2005       200000    financial   \n",
       "4                    Citigroup  2005      3900000    financial   \n",
       "5  Cardsystems Solutions Inc.   2005     40000000    financial   \n",
       "\n",
       "         METHOD OF LEAK                       DATA SENSITIVITY  \n",
       "1            inside job  Just email address/Online information  \n",
       "2         poor security                   SSN/Personal details  \n",
       "3  lost / stolen device                   SSN/Personal details  \n",
       "4  lost / stolen device                Credit card information  \n",
       "5                hacked                Credit card information  "
      ]
     },
     "execution_count": 34,
     "metadata": {},
     "output_type": "execute_result"
    }
   ],
   "source": [
    "#display records in sheet\n",
    "#UpdatedData_2017.loc[140:180]\n",
    "UpdatedData_2017.head()"
   ]
  },
  {
   "cell_type": "code",
   "execution_count": 14,
   "metadata": {
    "collapsed": true
   },
   "outputs": [],
   "source": [
    "#Drop junk columns from the sheet 2017 update\n",
    "columns_to_drop = ['alternative name', 'story', 'interesting story', 'UNUSED' , 'UNUSED.1', 'Exclude', 'Unnamed: 13', '1st source link', '2nd source link', '3rd source', 'source name']\n",
    "UpdatedData_2017 = UpdatedData_2017[[col for col in UpdatedData_2017.columns if col not in columns_to_drop]]"
   ]
  },
  {
   "cell_type": "code",
   "execution_count": 16,
   "metadata": {
    "collapsed": true
   },
   "outputs": [],
   "source": [
    "#Display rows with null value\n",
    "NullRows = UpdatedData_2017[UpdatedData_2017.isnull().any(axis=1)]"
   ]
  },
  {
   "cell_type": "code",
   "execution_count": 17,
   "metadata": {},
   "outputs": [
    {
     "data": {
      "text/html": [
       "<div>\n",
       "<style>\n",
       "    .dataframe thead tr:only-child th {\n",
       "        text-align: right;\n",
       "    }\n",
       "\n",
       "    .dataframe thead th {\n",
       "        text-align: left;\n",
       "    }\n",
       "\n",
       "    .dataframe tbody tr th {\n",
       "        vertical-align: top;\n",
       "    }\n",
       "</style>\n",
       "<table border=\"1\" class=\"dataframe\">\n",
       "  <thead>\n",
       "    <tr style=\"text-align: right;\">\n",
       "      <th></th>\n",
       "      <th>Entity</th>\n",
       "      <th>YEAR</th>\n",
       "      <th>records lost</th>\n",
       "      <th>ORGANISATION</th>\n",
       "      <th>METHOD OF LEAK</th>\n",
       "      <th>NO OF RECORDS STOLEN</th>\n",
       "      <th>DATA SENSITIVITY</th>\n",
       "    </tr>\n",
       "  </thead>\n",
       "  <tbody>\n",
       "    <tr>\n",
       "      <th>0</th>\n",
       "      <td>NaN</td>\n",
       "      <td>years are encoded (0=2004, 8 = 2012, 9 = 2013,...</td>\n",
       "      <td>(use 3m, 4m, 5m or 10m to approximate unknown ...</td>\n",
       "      <td>NaN</td>\n",
       "      <td>NaN</td>\n",
       "      <td>(use 3m, 4m, 5m or 10m to approximate unknown ...</td>\n",
       "      <td>1. Just email address/Online information 20 SS...</td>\n",
       "    </tr>\n",
       "    <tr>\n",
       "      <th>147</th>\n",
       "      <td>OVH</td>\n",
       "      <td>9</td>\n",
       "      <td>NaN</td>\n",
       "      <td>web</td>\n",
       "      <td>hacked</td>\n",
       "      <td>500000</td>\n",
       "      <td>20</td>\n",
       "    </tr>\n",
       "    <tr>\n",
       "      <th>163</th>\n",
       "      <td>UbiSoft</td>\n",
       "      <td>9</td>\n",
       "      <td>NaN</td>\n",
       "      <td>gaming</td>\n",
       "      <td>hacked</td>\n",
       "      <td>58000000</td>\n",
       "      <td>20</td>\n",
       "    </tr>\n",
       "  </tbody>\n",
       "</table>\n",
       "</div>"
      ],
      "text/plain": [
       "      Entity                                               YEAR  \\\n",
       "0        NaN  years are encoded (0=2004, 8 = 2012, 9 = 2013,...   \n",
       "147      OVH                                                  9   \n",
       "163  UbiSoft                                                  9   \n",
       "\n",
       "                                          records lost ORGANISATION  \\\n",
       "0    (use 3m, 4m, 5m or 10m to approximate unknown ...          NaN   \n",
       "147                                                NaN          web   \n",
       "163                                                NaN       gaming   \n",
       "\n",
       "    METHOD OF LEAK                               NO OF RECORDS STOLEN  \\\n",
       "0              NaN  (use 3m, 4m, 5m or 10m to approximate unknown ...   \n",
       "147         hacked                                             500000   \n",
       "163         hacked                                           58000000   \n",
       "\n",
       "                                      DATA SENSITIVITY  \n",
       "0    1. Just email address/Online information 20 SS...  \n",
       "147                                                 20  \n",
       "163                                                 20  "
      ]
     },
     "execution_count": 17,
     "metadata": {},
     "output_type": "execute_result"
    }
   ],
   "source": [
    "NullRows"
   ]
  },
  {
   "cell_type": "code",
   "execution_count": 22,
   "metadata": {
    "collapsed": true
   },
   "outputs": [],
   "source": [
    "#Fill nullvalue in 'records lost' column with the values from 'NO OF RECORDS STOLEN' column\n",
    "UpdatedData_2017['records lost'] = UpdatedData_2017['records lost'].fillna(value=UpdatedData_2017['NO OF RECORDS STOLEN'])"
   ]
  },
  {
   "cell_type": "code",
   "execution_count": 26,
   "metadata": {
    "collapsed": true
   },
   "outputs": [],
   "source": [
    "#Drop 'NO OF RECORDS STOLEN' column\n",
    "del UpdatedData_2017['NO OF RECORDS STOLEN']"
   ]
  },
  {
   "cell_type": "code",
   "execution_count": 28,
   "metadata": {
    "collapsed": true
   },
   "outputs": [],
   "source": [
    "#Drop a row-1, inplace = True just fills within the same dataframe\n",
    "UpdatedData_2017.drop(UpdatedData_2017.index[:1], inplace=True)"
   ]
  },
  {
   "cell_type": "code",
   "execution_count": 30,
   "metadata": {
    "collapsed": true
   },
   "outputs": [],
   "source": [
    "#Replace YEAR column values\n",
    "#0=2004, 8 = 2012, 9 = 2013, 10=2014, 11=2015, 12=2016, 13 = 2017, 14=latest/2017\n",
    "UpdatedData_2017.loc[UpdatedData_2017['YEAR'] == 0, 'YEAR'] = 2004\n",
    "UpdatedData_2017.loc[UpdatedData_2017['YEAR'] == 1, 'YEAR'] = 2005\n",
    "UpdatedData_2017.loc[UpdatedData_2017['YEAR'] == 2, 'YEAR'] = 2006\n",
    "UpdatedData_2017.loc[UpdatedData_2017['YEAR'] == 3, 'YEAR'] = 2007\n",
    "UpdatedData_2017.loc[UpdatedData_2017['YEAR'] == 4, 'YEAR'] = 2008\n",
    "UpdatedData_2017.loc[UpdatedData_2017['YEAR'] == 5, 'YEAR'] = 2009\n",
    "UpdatedData_2017.loc[UpdatedData_2017['YEAR'] == 6, 'YEAR'] = 2010\n",
    "UpdatedData_2017.loc[UpdatedData_2017['YEAR'] == 7, 'YEAR'] = 2011\n",
    "UpdatedData_2017.loc[UpdatedData_2017['YEAR'] == 8, 'YEAR'] = 2012\n",
    "UpdatedData_2017.loc[UpdatedData_2017['YEAR'] == 9, 'YEAR'] = 2013\n",
    "UpdatedData_2017.loc[UpdatedData_2017['YEAR'] == 10, 'YEAR'] = 2014\n",
    "UpdatedData_2017.loc[UpdatedData_2017['YEAR'] == 11, 'YEAR'] = 2015\n",
    "UpdatedData_2017.loc[UpdatedData_2017['YEAR'] == 12, 'YEAR'] = 2016\n",
    "UpdatedData_2017.loc[UpdatedData_2017['YEAR'] == 13, 'YEAR'] = 2017\n",
    "UpdatedData_2017.loc[UpdatedData_2017['YEAR'] == 14, 'YEAR'] = 2017"
   ]
  },
  {
   "cell_type": "code",
   "execution_count": 33,
   "metadata": {
    "collapsed": true
   },
   "outputs": [],
   "source": [
    "#Change record lost and Data sensitivity columns to numeric as they have string values\n",
    "#pd.to_numeric(Data_2017['records lost'])\n",
    "#pd.to_numeric(Data_2017['DATA SENSITIVITY'])\n",
    "#Replace DATA SENSITIVITY Column Values\n",
    "#1. Just email address/Online information 20 SSN/Personal details 300 Credit card information 4000 Email password/Health records 50000 Full bank account details\n",
    "UpdatedData_2017.loc[UpdatedData_2017['DATA SENSITIVITY'] == 1, 'DATA SENSITIVITY'] = 'Just email address/Online information'\n",
    "UpdatedData_2017.loc[UpdatedData_2017['DATA SENSITIVITY'] == 20, 'DATA SENSITIVITY'] = 'SSN/Personal details'\n",
    "UpdatedData_2017.loc[UpdatedData_2017['DATA SENSITIVITY'] == 300, 'DATA SENSITIVITY'] = 'Credit card information'\n",
    "UpdatedData_2017.loc[UpdatedData_2017['DATA SENSITIVITY'] == 4000, 'DATA SENSITIVITY'] = 'Email password/Health records'\n",
    "UpdatedData_2017.loc[UpdatedData_2017['DATA SENSITIVITY'] == 50000, 'DATA SENSITIVITY'] = 'Full bank account details'\n",
    "UpdatedData_2017.loc[UpdatedData_2017['DATA SENSITIVITY'] == '20', 'DATA SENSITIVITY'] = 'SSN/Personal details'\n",
    "UpdatedData_2017.loc[UpdatedData_2017['DATA SENSITIVITY'] == '300', 'DATA SENSITIVITY'] = 'Credit card information'\n",
    "UpdatedData_2017.loc[UpdatedData_2017['DATA SENSITIVITY'] == 3, 'DATA SENSITIVITY'] = 'Credit card information'"
   ]
  },
  {
   "cell_type": "code",
   "execution_count": 35,
   "metadata": {
    "collapsed": true
   },
   "outputs": [],
   "source": [
    "#Save the dataframe as a csv file\n",
    "UpdatedData_2017.to_csv('Wrangled_Data_Lab1_2017.csv', index=False, encoding='utf-8')"
   ]
  },
  {
   "cell_type": "markdown",
   "metadata": {},
   "source": [
    "# Tableau Visualization\n",
    "# Version 1 :\n",
    "https://public.tableau.com/profile/nandini6420#!/vizhome/Data_Breached_V1_0/SecurityBreachesarebecomingsevere\n",
    "\n",
    "Advantages:\n",
    "    - The objective “Security breaches are becoming less severe” is refuted\n",
    "    - It depicts various demions across years to prove the claim\n",
    "\n",
    "To be improved in next version:\n",
    "    - The clarity of the dashboard could be improved in the next version, by choosing differnt maps to plot so that they provide insight on the objective over different parameters\n",
    "\n",
    "# Version 2 :\n",
    "https://public.tableau.com/profile/nandini6420#!/vizhome/Data_Breaches_V1_0/SecurityBreachSeverityconcern\n",
    "\n",
    "Advantages:\n",
    "    - The data breach happened over years across different organisations is clearly captured in the visualization.\n",
    "    \n",
    "To be improved in next version:\n",
    "    - The next version could implements all the dimensions from the dataset to depict the information on sceurity breaches\n",
    "\n",
    "# Version 3 :\n",
    "https://public.tableau.com/profile/nandini6420#!/vizhome/Data_Breached_V3_0/SecurityBreaches\n",
    "\n",
    "Advantages:\n",
    "    - The visualization clearly explains that security breaches are becoming severe in the upcoming year based on all the possible dimensions from the datsets\n",
    "    - Each attribute of the dataset are utilized in the right way to explain the claim\n",
    "    - The secnarios developed to support the discussion does the job\n",
    "\n",
    "To be improved in next version:\n",
    "    - The storyline in the visualisation can be improved to prove the claim\n",
    "    - Need to explore more in effectively using datasets in visualization\n",
    "\n"
   ]
  },
  {
   "cell_type": "code",
   "execution_count": null,
   "metadata": {
    "collapsed": true
   },
   "outputs": [],
   "source": []
  }
 ],
 "metadata": {
  "kernelspec": {
   "display_name": "Python 3",
   "language": "python",
   "name": "python3"
  },
  "language_info": {
   "codemirror_mode": {
    "name": "ipython",
    "version": 3
   },
   "file_extension": ".py",
   "mimetype": "text/x-python",
   "name": "python",
   "nbconvert_exporter": "python",
   "pygments_lexer": "ipython3",
   "version": "3.6.1"
  }
 },
 "nbformat": 4,
 "nbformat_minor": 2
}
